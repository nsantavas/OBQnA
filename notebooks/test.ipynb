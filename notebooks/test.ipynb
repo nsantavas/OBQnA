{
 "cells": [
  {
   "cell_type": "code",
   "execution_count": 1,
   "id": "79e21c15",
   "metadata": {},
   "outputs": [],
   "source": [
    "import sys; sys.path.insert(0, '..')"
   ]
  },
  {
   "cell_type": "markdown",
   "id": "2444b27f",
   "metadata": {},
   "source": [
    "# Data Processing"
   ]
  },
  {
   "cell_type": "code",
   "execution_count": 2,
   "id": "42cc5d4a",
   "metadata": {},
   "outputs": [
    {
     "name": "stderr",
     "output_type": "stream",
     "text": [
      "/home/frank/miniconda3/envs/os/lib/python3.8/site-packages/gensim/similarities/__init__.py:15: UserWarning: The gensim.similarities.levenshtein submodule is disabled, because the optional Levenshtein package <https://pypi.org/project/python-Levenshtein/> is unavailable. Install Levenhstein (e.g. `pip install python-Levenshtein`) to suppress this warning.\n",
      "  warnings.warn(msg)\n"
     ]
    }
   ],
   "source": [
    "from obqna.process import PDFParser, Passages"
   ]
  },
  {
   "cell_type": "code",
   "execution_count": 3,
   "id": "c595c920",
   "metadata": {},
   "outputs": [],
   "source": [
    "parser = PDFParser(\"../books/\")\n",
    "books = parser.parse()\n",
    "books = parser.clean(books)"
   ]
  },
  {
   "cell_type": "code",
   "execution_count": 4,
   "id": "6d56eef9",
   "metadata": {},
   "outputs": [
    {
     "name": "stdout",
     "output_type": "stream",
     "text": [
      "INFO: Pandarallel will run on 24 workers.\n",
      "INFO: Pandarallel will use Memory file system to transfer data between the main process and workers.\n"
     ]
    }
   ],
   "source": [
    "passages = Passages()\n",
    "corpus = passages.df2passages(books)"
   ]
  },
  {
   "cell_type": "markdown",
   "id": "441611c0",
   "metadata": {},
   "source": [
    "# QnA"
   ]
  },
  {
   "cell_type": "code",
   "execution_count": 5,
   "id": "980357d3",
   "metadata": {},
   "outputs": [],
   "source": [
    "from obqna.qa import QuestionAnswering"
   ]
  },
  {
   "cell_type": "code",
   "execution_count": 35,
   "id": "7b748a01",
   "metadata": {},
   "outputs": [],
   "source": [
    "# searcher_type = \"scann\" # other choices: \"faiss\", \"annoy\"\n",
    "searcher_type = \"faiss\" # other choices: \"faiss\", \"annoy\"\n",
    "qna = QuestionAnswering(searcher_type)"
   ]
  },
  {
   "cell_type": "code",
   "execution_count": 36,
   "id": "1e18d047",
   "metadata": {},
   "outputs": [
    {
     "name": "stdout",
     "output_type": "stream",
     "text": [
      "Indexing completed\n",
      "Preparation completed\n"
     ]
    }
   ],
   "source": [
    "qna.prepare(corpus)"
   ]
  },
  {
   "cell_type": "code",
   "execution_count": 54,
   "id": "be4ca27f",
   "metadata": {},
   "outputs": [
    {
     "name": "stdout",
     "output_type": "stream",
     "text": [
      "Question: Who is Galadriel?: \n",
      "Answer: The Lady of Lorien\n",
      "----------\n",
      "Question: Who is Isildur?: \n",
      "Answer: Elendils son\n",
      "----------\n",
      "Question: Who is Boromir's father?: \n",
      "Answer: Lord Denethor\n",
      "----------\n",
      "Question: Who is Aragorn?: \n",
      "Answer: Heir of Isildur\n",
      "----------\n",
      "Question: Was the ring destroyed?: \n",
      "Answer: it perished from the world in the ruin of his first realm\n",
      "----------\n",
      "Question: What language is on the One Ring inscription?: \n",
      "Answer: Black Speech\n",
      "----------\n"
     ]
    }
   ],
   "source": [
    "questions = [\n",
    "    \"Who is Galadriel?\",\n",
    "    \"Who is Isildur?\",\n",
    "    \"Who is Boromir's father?\",\n",
    "    \"Who is Aragorn?\",\n",
    "    \"Was the ring destroyed?\",\n",
    "    \"What language is on the One Ring inscription?\"\n",
    "]\n",
    "\n",
    "for question in questions:\n",
    "    print(f\"Question: {question}: \")\n",
    "    results = qna.ask(question)\n",
    "    print(f\"Answer: {results['answer']}\")\n",
    "    print(10*'-')"
   ]
  },
  {
   "cell_type": "code",
   "execution_count": null,
   "id": "8ae7b156",
   "metadata": {},
   "outputs": [],
   "source": []
  }
 ],
 "metadata": {
  "interpreter": {
   "hash": "966e2937f8eb914d7964bd7ffefae485e73ee68bbce7cbf95ddf25c23bbd4a34"
  },
  "kernelspec": {
   "display_name": "Python 3.8.10 64-bit ('os': conda)",
   "language": "python",
   "name": "python3810jvsc74a57bd0966e2937f8eb914d7964bd7ffefae485e73ee68bbce7cbf95ddf25c23bbd4a34"
  },
  "language_info": {
   "codemirror_mode": {
    "name": "ipython",
    "version": 3
   },
   "file_extension": ".py",
   "mimetype": "text/x-python",
   "name": "python",
   "nbconvert_exporter": "python",
   "pygments_lexer": "ipython3",
   "version": "3.8.10"
  }
 },
 "nbformat": 4,
 "nbformat_minor": 5
}
