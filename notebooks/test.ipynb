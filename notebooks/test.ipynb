{
 "cells": [
  {
   "cell_type": "code",
   "execution_count": 1,
   "id": "79e21c15",
   "metadata": {},
   "outputs": [],
   "source": [
    "import sys; sys.path.insert(0, '..')"
   ]
  },
  {
   "cell_type": "markdown",
   "id": "2444b27f",
   "metadata": {},
   "source": [
    "# Data Processing"
   ]
  },
  {
   "cell_type": "code",
   "execution_count": 2,
   "id": "42cc5d4a",
   "metadata": {},
   "outputs": [],
   "source": [
    "from obqna.process import PDFParser, Passages"
   ]
  },
  {
   "cell_type": "code",
   "execution_count": 3,
   "id": "c595c920",
   "metadata": {},
   "outputs": [],
   "source": [
    "parser = PDFParser(\"../books/\")\n",
    "books = parser.parse()\n",
    "books = parser.clean(books)"
   ]
  },
  {
   "cell_type": "code",
   "execution_count": 4,
   "id": "6d56eef9",
   "metadata": {},
   "outputs": [
    {
     "name": "stdout",
     "output_type": "stream",
     "text": [
      "INFO: Pandarallel will run on 12 workers.\n",
      "INFO: Pandarallel will use Memory file system to transfer data between the main process and workers.\n"
     ]
    }
   ],
   "source": [
    "passages = Passages()\n",
    "corpus = passages.df2passages(books)"
   ]
  },
  {
   "cell_type": "markdown",
   "id": "441611c0",
   "metadata": {},
   "source": [
    "# QnA"
   ]
  },
  {
   "cell_type": "code",
   "execution_count": 5,
   "id": "980357d3",
   "metadata": {},
   "outputs": [
    {
     "name": "stderr",
     "output_type": "stream",
     "text": [
      "2021-08-02 15:52:37.415904: I tensorflow/stream_executor/platform/default/dso_loader.cc:53] Successfully opened dynamic library libcudart.so.11.0\n"
     ]
    }
   ],
   "source": [
    "from obqna.qa import QuestionAnswering"
   ]
  },
  {
   "cell_type": "code",
   "execution_count": 6,
   "id": "7b748a01",
   "metadata": {},
   "outputs": [],
   "source": [
    "searcher_type = \"scann\" # other choices: \"faiss\", \"annoy\"\n",
    "qna = QuestionAnswering(searcher_type)"
   ]
  },
  {
   "cell_type": "code",
   "execution_count": 7,
   "id": "1e18d047",
   "metadata": {},
   "outputs": [
    {
     "name": "stderr",
     "output_type": "stream",
     "text": [
      "100%|█████████████████████████████████████████████████████████████| 672/672 [02:08<00:00,  5.24it/s]\n"
     ]
    },
    {
     "name": "stdout",
     "output_type": "stream",
     "text": [
      "Indexing completed\n",
      "Preparation completed\n"
     ]
    }
   ],
   "source": [
    "qna.prepare(corpus)"
   ]
  },
  {
   "cell_type": "code",
   "execution_count": 8,
   "id": "be4ca27f",
   "metadata": {},
   "outputs": [
    {
     "name": "stdout",
     "output_type": "stream",
     "text": [
      "Who is Galadriel?: \n",
      "{'score': 0.004581134766340256, 'start': 1352, 'end': 1370, 'answer': 'The Lady of Lorien'}\n",
      "Who is Gandalf?: \n",
      "{'score': 0.35581105947494507, 'start': 1660, 'end': 1676, 'answer': 'Gandalf the Grey'}\n",
      "Was the ring destroyed?: \n",
      "{'score': 0.19746822118759155, 'start': 2126, 'end': 2183, 'answer': 'it perished from the world in the ruin of his first realm'}\n"
     ]
    }
   ],
   "source": [
    "questions = [\n",
    "    \"Who is Galadriel?\",\n",
    "    \"Who is Gandalf?\",\n",
    "    \"Was the ring destroyed?\",\n",
    "]\n",
    "\n",
    "for question in questions:\n",
    "    print(f\"{question}: \")\n",
    "    print(qna.ask(question))"
   ]
  }
 ],
 "metadata": {
  "interpreter": {
   "hash": "966e2937f8eb914d7964bd7ffefae485e73ee68bbce7cbf95ddf25c23bbd4a34"
  },
  "kernelspec": {
   "display_name": "Python 3 (ipykernel)",
   "language": "python",
   "name": "python3"
  },
  "language_info": {
   "codemirror_mode": {
    "name": "ipython",
    "version": 3
   },
   "file_extension": ".py",
   "mimetype": "text/x-python",
   "name": "python",
   "nbconvert_exporter": "python",
   "pygments_lexer": "ipython3",
   "version": "3.8.10"
  }
 },
 "nbformat": 4,
 "nbformat_minor": 5
}
