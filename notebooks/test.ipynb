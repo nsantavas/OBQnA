{
 "cells": [
  {
   "cell_type": "code",
   "execution_count": 1,
   "source": [
    "import sys; sys.path.insert(0, '..')"
   ],
   "outputs": [],
   "metadata": {}
  },
  {
   "cell_type": "markdown",
   "source": [
    "# Data Pprocessing"
   ],
   "metadata": {}
  },
  {
   "cell_type": "code",
   "execution_count": 2,
   "source": [
    "from app.obqna.process import PDFParser, Passages"
   ],
   "outputs": [],
   "metadata": {}
  },
  {
   "cell_type": "code",
   "execution_count": 3,
   "source": [
    "parser = PDFParser(\"../books/\")\n",
    "books = parser.parse()\n",
    "books = parser.clean(books)"
   ],
   "outputs": [],
   "metadata": {}
  },
  {
   "cell_type": "code",
   "execution_count": 4,
   "source": [
    "passages = Passages()\n",
    "corpus = passages.df2passages(books)"
   ],
   "outputs": [
    {
     "output_type": "stream",
     "name": "stdout",
     "text": [
      "INFO: Pandarallel will run on 12 workers.\n",
      "INFO: Pandarallel will use Memory file system to transfer data between the main process and workers.\n"
     ]
    }
   ],
   "metadata": {}
  },
  {
   "cell_type": "markdown",
   "source": [
    "# QnA"
   ],
   "metadata": {}
  },
  {
   "cell_type": "code",
   "execution_count": 5,
   "source": [
    "from app.obqna.qa import QuestionAnswering"
   ],
   "outputs": [
    {
     "output_type": "stream",
     "name": "stderr",
     "text": [
      "2021-07-27 15:57:51.458848: I tensorflow/stream_executor/platform/default/dso_loader.cc:53] Successfully opened dynamic library libcudart.so.11.0\n"
     ]
    }
   ],
   "metadata": {}
  },
  {
   "cell_type": "code",
   "execution_count": 6,
   "source": [
    "searcher_type = \"scann\" # other choices: \"faiss\", \"annoy\"\n",
    "qna = QuestionAnswering(searcher_type)"
   ],
   "outputs": [],
   "metadata": {}
  },
  {
   "cell_type": "code",
   "execution_count": 7,
   "source": [
    "qna.prepare(corpus)"
   ],
   "outputs": [
    {
     "output_type": "stream",
     "name": "stderr",
     "text": [
      "100%|██████████| 672/672 [02:05<00:00,  5.34it/s]\n"
     ]
    },
    {
     "output_type": "stream",
     "name": "stdout",
     "text": [
      "Indexing completed\n",
      "Preparation completed\n"
     ]
    }
   ],
   "metadata": {}
  },
  {
   "cell_type": "code",
   "execution_count": 13,
   "source": [
    "questions = [\n",
    "    \"Who is Galadriel?\",\n",
    "    \"Who is Gandalf?\",\n",
    "    \"Was the ring destroyed?\",\n",
    "]\n",
    "\n",
    "for question in questions:\n",
    "    print(f\"{question}: \")\n",
    "    print(qna.ask(question))"
   ],
   "outputs": [
    {
     "output_type": "stream",
     "name": "stdout",
     "text": [
      "Who is Galadriel?: \n",
      "{'score': 0.004581134766340256, 'start': 1352, 'end': 1370, 'answer': 'The Lady of Lorien'}\n",
      "Who is Gandalf?: \n",
      "{'score': 0.35581105947494507, 'start': 1660, 'end': 1676, 'answer': 'Gandalf the Grey'}\n",
      "Was the ring destroyed?: \n",
      "{'score': 0.19746822118759155, 'start': 2126, 'end': 2183, 'answer': 'it perished from the world in the ruin of his first realm'}\n"
     ]
    }
   ],
   "metadata": {}
  },
  {
   "cell_type": "code",
   "execution_count": null,
   "source": [],
   "outputs": [],
   "metadata": {}
  }
 ],
 "metadata": {
  "kernelspec": {
   "name": "python3",
   "display_name": "Python 3.8.10 64-bit ('obqna': conda)"
  },
  "language_info": {
   "codemirror_mode": {
    "name": "ipython",
    "version": 3
   },
   "file_extension": ".py",
   "mimetype": "text/x-python",
   "name": "python",
   "nbconvert_exporter": "python",
   "pygments_lexer": "ipython3",
   "version": "3.8.10"
  },
  "interpreter": {
   "hash": "063e7e94de28d5ae7d0b8dae2c17fb9209e7393863545b7cc263b76c07ca34a8"
  }
 },
 "nbformat": 4,
 "nbformat_minor": 5
}