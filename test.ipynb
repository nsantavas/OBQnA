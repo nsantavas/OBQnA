{
 "cells": [
  {
   "cell_type": "code",
   "execution_count": 1,
   "id": "8bf44333",
   "metadata": {},
   "outputs": [],
   "source": [
    "from DataProcessing import PDFParser, Passages"
   ]
  },
  {
   "cell_type": "code",
   "execution_count": 2,
   "id": "348f19ec",
   "metadata": {},
   "outputs": [],
   "source": [
    "Parser = PDFParser()\n",
    "books = Parser.parse()\n",
    "books = Parser.clean(books)"
   ]
  },
  {
   "cell_type": "code",
   "execution_count": null,
   "id": "8436c5b6",
   "metadata": {},
   "outputs": [
    {
     "name": "stdout",
     "output_type": "stream",
     "text": [
      "INFO: Pandarallel will run on 8 workers.\n",
      "INFO: Pandarallel will use Memory file system to transfer data between the main process and workers.\n"
     ]
    }
   ],
   "source": [
    "passages = Passages()\n",
    "corpus = passages.df2passages(books)"
   ]
  },
  {
   "cell_type": "code",
   "execution_count": null,
   "id": "1f721d77",
   "metadata": {},
   "outputs": [],
   "source": []
  }
 ],
 "metadata": {
  "kernelspec": {
   "display_name": "Python 3.8.10 64-bit ('kimo': conda)",
   "language": "python",
   "name": "python3810jvsc74a57bd0f1a7f97bfd7a33623d742a10954f0d440e999e7b7eae0c63b48e6b27db7a50ee"
  },
  "language_info": {
   "codemirror_mode": {
    "name": "ipython",
    "version": 3
   },
   "file_extension": ".py",
   "mimetype": "text/x-python",
   "name": "python",
   "nbconvert_exporter": "python",
   "pygments_lexer": "ipython3",
   "version": "3.8.10"
  }
 },
 "nbformat": 4,
 "nbformat_minor": 5
}
