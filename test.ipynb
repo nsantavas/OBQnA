{
 "cells": [
  {
   "cell_type": "code",
   "execution_count": 1,
   "id": "8bf44333",
   "metadata": {},
   "outputs": [],
   "source": [
    "from DataProcessing import PDFParser, Passages"
   ]
  },
  {
   "cell_type": "code",
   "execution_count": 2,
   "id": "348f19ec",
   "metadata": {},
   "outputs": [],
   "source": [
    "Parser = PDFParser()\n",
    "books = Parser.parse()\n",
    "books = Parser.clean(books)"
   ]
  },
  {
   "cell_type": "code",
   "execution_count": 3,
   "id": "8436c5b6",
   "metadata": {},
   "outputs": [
    {
     "name": "stdout",
     "output_type": "stream",
     "text": [
      "INFO: Pandarallel will run on 12 workers.\n",
      "INFO: Pandarallel will use Memory file system to transfer data between the main process and workers.\n",
      "CPU times: user 1.1 s, sys: 81.1 ms, total: 1.18 s\n",
      "Wall time: 1.53 s\n"
     ]
    }
   ],
   "source": [
    "%%time\n",
    "passages = Passages()\n",
    "corpus = passages.df2passages(books)"
   ]
  }
 ],
 "metadata": {
  "kernelspec": {
   "display_name": "Python 3 (ipykernel)",
   "language": "python",
   "name": "python3"
  },
  "language_info": {
   "codemirror_mode": {
    "name": "ipython",
    "version": 3
   },
   "file_extension": ".py",
   "mimetype": "text/x-python",
   "name": "python",
   "nbconvert_exporter": "python",
   "pygments_lexer": "ipython3",
   "version": "3.8.10"
  }
 },
 "nbformat": 4,
 "nbformat_minor": 5
}
